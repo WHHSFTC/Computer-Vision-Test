{
 "cells": [
  {
   "cell_type": "code",
   "execution_count": 1,
   "metadata": {},
   "outputs": [],
   "source": [
    "import cv2\n",
    "import numpy as np"
   ]
  },
  {
   "cell_type": "code",
   "execution_count": 2,
   "metadata": {},
   "outputs": [
    {
     "name": "stdout",
     "output_type": "stream",
     "text": [
      "[[[ 19 255 255]]]\n"
     ]
    }
   ],
   "source": [
    "orange = np.uint8([[[0, 165, 255]]])\n",
    "hsv_orange = cv2.cvtColor(orange, cv2.COLOR_BGR2HSV)\n",
    "print(hsv_orange)"
   ]
  },
  {
   "cell_type": "code",
   "execution_count": 3,
   "metadata": {},
   "outputs": [],
   "source": [
    "lower_orange = np.array([0, 100, 100])\n",
    "upper_orange = np.array([35, 255, 255])"
   ]
  },
  {
   "cell_type": "code",
   "execution_count": null,
   "metadata": {},
   "outputs": [],
   "source": [
    "cap = cv2.VideoCapture(1)\n",
    "\n",
    "while 1:\n",
    "    ret, img = cap.read()\n",
    "    \n",
    "    cv2.imshow(\"yes\", img)\n",
    "    \n",
    "    hsv = cv2.cvtColor(img, cv2.COLOR_BGR2HSV)\n",
    "    \n",
    "    h, s, v = cv2.split(hsv)\n",
    "    cv2.equalizeHist(v, v)\n",
    "    cv2.merge((h, s, v), hsv)\n",
    "    \n",
    "#     cv2.imshow(\"hsv\", hsv)\n",
    "    \n",
    "    mask = cv2.inRange(hsv, lower_orange, upper_orange)\n",
    "    \n",
    "#     cv2.imshow(\"mask\", mask)\n",
    "    \n",
    "    res = cv2.bitwise_and(img, img, mask = mask)\n",
    "    \n",
    "    contours, he = cv2.findContours(mask, cv2.RETR_TREE, cv2.CHAIN_APPROX_NONE)\n",
    "\n",
    "    res = cv2.drawContours(res, contours, -1, (0 , 255, 0), 3)\n",
    "    \n",
    "#     cv2.imshow(\"res\", res)\n",
    "    \n",
    "    def weightC(c):\n",
    "        rect = cv2.minAreaRect(c)\n",
    "        box = cv2.boxPoints(rect)\n",
    "        box = np.int0(box)\n",
    "        return box[box.argmax(1)[0]][1] - box[box.argmin(1)[0]][1]\n",
    "    \n",
    "    cPrime = sorted([(weightC(c), i) for i, c in zip(range(len(contours)),contours)], reverse = True)\n",
    "    \n",
    "#     print(cPrime)\n",
    "#     widths = []\n",
    "#     for c in contours:\n",
    "#         rect = cv2.minAreaRect(c)\n",
    "#         box = cv2.boxPoints(rect)\n",
    "#         box = np.int0(box)\n",
    "#         widths.append(box[box.argmax(0)[0]]-box[box.argmin(0)[0]])\n",
    "\n",
    "#     maxwidth = 0\n",
    "#     maxi = -1\n",
    "#     for i in range(len(widths)):\n",
    "#         if widths[i][0] > maxwidth:\n",
    "#             maxwidth = widths[i][0]\n",
    "#             maxi = i\n",
    "\n",
    "    rect = cv2.minAreaRect(contours[cPrime[0][1]])\n",
    "    box = cv2.boxPoints(rect)\n",
    "    box = np.int0(box)\n",
    "    cv2.drawContours(res,[box],0,(255,0,0),2)\n",
    "    \n",
    "    cv2.imshow(\"res2\", res)\n",
    "    \n",
    "    if cv2.waitKey(1) & 0xFF == ord('q'):\n",
    "        break\n",
    "cap.release()\n",
    "cv2.destroyAllWindows()"
   ]
  }
 ],
 "metadata": {
  "kernelspec": {
   "display_name": "Python 3",
   "language": "python",
   "name": "python3"
  },
  "language_info": {
   "codemirror_mode": {
    "name": "ipython",
    "version": 3
   },
   "file_extension": ".py",
   "mimetype": "text/x-python",
   "name": "python",
   "nbconvert_exporter": "python",
   "pygments_lexer": "ipython3",
   "version": "3.8.0"
  }
 },
 "nbformat": 4,
 "nbformat_minor": 4
}
