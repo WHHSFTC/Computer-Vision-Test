{
 "cells": [
  {
   "cell_type": "code",
   "execution_count": 1,
   "metadata": {},
   "outputs": [],
   "source": [
    "import cv2\n",
    "import numpy as np"
   ]
  },
  {
   "cell_type": "code",
   "execution_count": 2,
   "metadata": {},
   "outputs": [
    {
     "name": "stdout",
     "output_type": "stream",
     "text": [
      "[[[173 186  30]]]\n",
      "[[[150  21  43]]]\n"
     ]
    }
   ],
   "source": [
    "orange = np.uint8([[[0, 165, 255]]])\n",
    "ycrcb_orange = cv2.cvtColor(orange, cv2.COLOR_BGR2YCR_CB)\n",
    "print(ycrcb_orange)\n",
    "ycrcb_green = cv2.cvtColor(np.uint8([[[0, 255, 0]]]), cv2.COLOR_BGR2YCrCb)\n",
    "print(ycrcb_green)"
   ]
  },
  {
   "cell_type": "code",
   "execution_count": 3,
   "metadata": {},
   "outputs": [
    {
     "name": "stdout",
     "output_type": "stream",
     "text": [
      "[[[255 128 128]]]\n"
     ]
    }
   ],
   "source": [
    "black = cv2.cvtColor(np.uint8([[[255,255,255]]]), cv2.COLOR_BGR2YCrCb)\n",
    "print(black)"
   ]
  },
  {
   "cell_type": "code",
   "execution_count": 4,
   "metadata": {},
   "outputs": [],
   "source": [
    "center_orange = np.array([173, 186, 30])\n",
    "lower_orange = center_orange - np.array([173, 186-141, 30])\n",
    "upper_orange = center_orange + np.array([255-173, 230-186, 80])\n",
    "# threshold = 256"
   ]
  },
  {
   "cell_type": "code",
   "execution_count": 8,
   "metadata": {},
   "outputs": [
    {
     "ename": "error",
     "evalue": "OpenCV(4.2.0) C:\\projects\\opencv-python\\opencv\\modules\\highgui\\src\\window.cpp:376: error: (-215:Assertion failed) size.width>0 && size.height>0 in function 'cv::imshow'\n",
     "output_type": "error",
     "traceback": [
      "\u001b[1;31m---------------------------------------------------------------------------\u001b[0m",
      "\u001b[1;31merror\u001b[0m                                     Traceback (most recent call last)",
      "\u001b[1;32m<ipython-input-8-082dd9746d2f>\u001b[0m in \u001b[0;36m<module>\u001b[1;34m\u001b[0m\n\u001b[0;32m      4\u001b[0m     \u001b[0mret\u001b[0m\u001b[1;33m,\u001b[0m \u001b[0mimg\u001b[0m \u001b[1;33m=\u001b[0m \u001b[0mcap\u001b[0m\u001b[1;33m.\u001b[0m\u001b[0mread\u001b[0m\u001b[1;33m(\u001b[0m\u001b[1;33m)\u001b[0m\u001b[1;33m\u001b[0m\u001b[1;33m\u001b[0m\u001b[0m\n\u001b[0;32m      5\u001b[0m \u001b[1;33m\u001b[0m\u001b[0m\n\u001b[1;32m----> 6\u001b[1;33m     \u001b[0mcv2\u001b[0m\u001b[1;33m.\u001b[0m\u001b[0mimshow\u001b[0m\u001b[1;33m(\u001b[0m\u001b[1;34m\"yes\"\u001b[0m\u001b[1;33m,\u001b[0m \u001b[0mimg\u001b[0m\u001b[1;33m)\u001b[0m\u001b[1;33m\u001b[0m\u001b[1;33m\u001b[0m\u001b[0m\n\u001b[0m\u001b[0;32m      7\u001b[0m \u001b[1;33m\u001b[0m\u001b[0m\n\u001b[0;32m      8\u001b[0m     \u001b[0mycrcb\u001b[0m \u001b[1;33m=\u001b[0m \u001b[0mcv2\u001b[0m\u001b[1;33m.\u001b[0m\u001b[0mcvtColor\u001b[0m\u001b[1;33m(\u001b[0m\u001b[0mimg\u001b[0m\u001b[1;33m,\u001b[0m \u001b[0mcv2\u001b[0m\u001b[1;33m.\u001b[0m\u001b[0mCOLOR_BGR2YCrCb\u001b[0m\u001b[1;33m)\u001b[0m\u001b[1;33m\u001b[0m\u001b[1;33m\u001b[0m\u001b[0m\n",
      "\u001b[1;31merror\u001b[0m: OpenCV(4.2.0) C:\\projects\\opencv-python\\opencv\\modules\\highgui\\src\\window.cpp:376: error: (-215:Assertion failed) size.width>0 && size.height>0 in function 'cv::imshow'\n"
     ]
    }
   ],
   "source": [
    "cap = cv2.VideoCapture(1)\n",
    "\n",
    "while 1:\n",
    "    ret, img = cap.read()\n",
    "    \n",
    "    cv2.imshow(\"yes\", img)\n",
    "    \n",
    "    ycrcb = cv2.cvtColor(img, cv2.COLOR_BGR2YCrCb)\n",
    "    \n",
    "#     h, s, v = cv2.split(hsv)\n",
    "#     cv2.equalizeHist(h, h)\n",
    "#     cv2.merge((h, s, v), hsv)\n",
    "    \n",
    "    cv2.imshow(\"ycrcb\", ycrcb)\n",
    "    \n",
    "#     mask = cv2.GaussianBlur(mask, (15, 1), cv2.BORDER_DEFAULT)\n",
    "    \n",
    "#     cv2.imshow(\"blur\", mask)\n",
    "    \n",
    "    mask = cv2.inRange(ycrcb, lower_orange, upper_orange)\n",
    "    \n",
    "#     def maskify(luke):\n",
    "#         new = []\n",
    "#         for x in range(len(luke)):\n",
    "#             new.append([])\n",
    "#             for y in range(len(luke[0])):\n",
    "#                 val = 0\n",
    "#                 diff = luke[x][y] - center_orange\n",
    "#                 print(luke[x][y][1])\n",
    "#                 if (diff[1] ** 2 + diff[2] ** 2 <= threshold ** 2):\n",
    "#                     val = 255\n",
    "#                 new[x].append(val)\n",
    "#         return np.array(new, dtype=np.uint8)\n",
    "                    \n",
    "#     mask = maskify(ycrcb)\n",
    "    \n",
    "    cv2.imshow(\"mask\", mask)\n",
    "    \n",
    "    mask = cv2.GaussianBlur(mask, (5, 15), cv2.BORDER_DEFAULT)\n",
    "    \n",
    "    cv2.imshow(\"blur\", mask)\n",
    "    \n",
    "    res = cv2.bitwise_and(img, img, mask = mask)\n",
    "    \n",
    "    contours, he = cv2.findContours(mask, cv2.RETR_TREE, cv2.CHAIN_APPROX_NONE)\n",
    "\n",
    "    res = cv2.drawContours(res, contours, -1, (0 , 255, 0), 3)\n",
    "    \n",
    "    cv2.imshow(\"res\", res)\n",
    "    \n",
    "    def weightC(c):\n",
    "        x,y,w,h = cv2.boundingRect(c)\n",
    "#         box = cv2.boxPoints(rect)\n",
    "#         box = np.int0(box)\n",
    "        return w\n",
    "    \n",
    "    cPrime = sorted([(weightC(c), i) for i, c in zip(range(len(contours)),contours)], reverse = True)\n",
    "    \n",
    "#     count = 0\n",
    "#     for cP in cPrime:\n",
    "#         if cP[0] >= 200:\n",
    "#             count += 1\n",
    "            \n",
    "#     boxes = []\n",
    "#     for i in range(count):\n",
    "#         rect = cv2.boundingRect(contours[cPrime[i][1]])\n",
    "#         box = cv2.boxPoints(rect)\n",
    "#         box = np.int0(box)\n",
    "#         boxc = box[:]\n",
    "#         def avg(b, i):\n",
    "#             return sum(b[i]) / len(b)\n",
    "        \n",
    "#         avgY = avg(boxc, 1)\n",
    "# #         boxes.append(avgY)\n",
    "#         boxes.append(boxc[1])\n",
    "#         cv2.drawContours(res,[box],0,(255,0,0),2)\n",
    "    \n",
    "#     print(len(boxes))\n",
    "    \n",
    "    if (cPrime != []):\n",
    "        x,y,w,h = cv2.boundingRect(contours[cPrime[0][1]])\n",
    "#         box = cv2.boxPoints(rect)\n",
    "#         box = np.int0(box)\n",
    "        cv2.rectangle(res, (x,y), (x+w,y+h), (255,0,0), 2)\n",
    "        cv2.putText(res, f\"aspect ratio: {h/w}\", (50,400), cv2.FONT_HERSHEY_SIMPLEX, 1, (0,0,255), 2, cv2.LINE_AA)\n",
    "        if (w >= 100):\n",
    "            if (.5 < h / w):\n",
    "                cv2.putText(res, \"# of rings: 4\", (50,450), cv2.FONT_HERSHEY_SIMPLEX, 1, (0,0,255), 2, cv2.LINE_AA)\n",
    "            else:\n",
    "                cv2.putText(res, \"# of rings: 1\", (50,450), cv2.FONT_HERSHEY_SIMPLEX, 1, (255,0,0), 2, cv2.LINE_AA)\n",
    "        else:\n",
    "            cv2.putText(res, \"# of rings: 0\", (50,450), cv2.FONT_HERSHEY_SIMPLEX, 1, (255,0,0), 2, cv2.LINE_AA)\n",
    "    else:\n",
    "        cv2.putText(res, \"# of rings: 0\", (50,450), cv2.FONT_HERSHEY_SIMPLEX, 1, (255,0,0), 2, cv2.LINE_AA)\n",
    "        \n",
    "    \n",
    "    cv2.imshow(\"res2\", res)\n",
    "    \n",
    "    if cv2.waitKey(1) & 0xFF == ord('q'):\n",
    "        break\n",
    "cap.release()\n",
    "cv2.destroyAllWindows()"
   ]
  }
 ],
 "metadata": {
  "kernelspec": {
   "display_name": "Python 3",
   "language": "python",
   "name": "python3"
  },
  "language_info": {
   "codemirror_mode": {
    "name": "ipython",
    "version": 3
   },
   "file_extension": ".py",
   "mimetype": "text/x-python",
   "name": "python",
   "nbconvert_exporter": "python",
   "pygments_lexer": "ipython3",
   "version": "3.8.0"
  }
 },
 "nbformat": 4,
 "nbformat_minor": 4
}
