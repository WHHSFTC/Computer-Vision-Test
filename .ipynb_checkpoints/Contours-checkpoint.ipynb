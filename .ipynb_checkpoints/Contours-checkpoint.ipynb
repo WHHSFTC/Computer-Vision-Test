{
 "cells": [
  {
   "cell_type": "code",
   "execution_count": 1,
   "metadata": {},
   "outputs": [],
   "source": [
    "import cv2\n",
    "import numpy as np"
   ]
  },
  {
   "cell_type": "code",
   "execution_count": 2,
   "metadata": {},
   "outputs": [],
   "source": [
    "cap = cv2.VideoCapture(1)"
   ]
  },
  {
   "cell_type": "code",
   "execution_count": 3,
   "metadata": {},
   "outputs": [
    {
     "name": "stdout",
     "output_type": "stream",
     "text": [
      "[ 70 100 100] [110 255 255]\n"
     ]
    }
   ],
   "source": [
    "yellow = np.uint8([[[255,255,0 ]]])\n",
    "hsv_yellow = cv2.cvtColor(yellow,cv2.COLOR_BGR2HSV)\n",
    "\n",
    "lower_yellow = hsv_yellow[0][0].copy()\n",
    "lower_yellow[0] -= 20\n",
    "lower_yellow[1] = 100\n",
    "lower_yellow[2] = 100\n",
    "\n",
    "upper_yellow = hsv_yellow[0][0].copy()\n",
    "upper_yellow[0] += 20\n",
    "\n",
    "print(f\"{lower_yellow} {upper_yellow}\")"
   ]
  },
  {
   "cell_type": "code",
   "execution_count": 4,
   "metadata": {},
   "outputs": [],
   "source": [
    "lower_yellow = np.array([20, 100, 100])\n",
    "upper_yellow = np.array([65, 255, 255])"
   ]
  },
  {
   "cell_type": "code",
   "execution_count": 7,
   "metadata": {},
   "outputs": [],
   "source": [
    "while(True):\n",
    "    # Capture frame-by-frame\n",
    "    ret, frame = cap.read()\n",
    "    \n",
    "    hsv = cv2.cvtColor(frame, cv2.COLOR_BGR2HSV)\n",
    "    \n",
    "    h, s, v =cv2.split(hsv)\n",
    "    cv2.equalizeHist(v, v)\n",
    "    cv2.merge((h, s, v), hsv)\n",
    "    \n",
    "    mask = cv2.inRange(hsv, lower_yellow, upper_yellow)\n",
    "    \n",
    "    res = cv2.bitwise_and(frame, frame, mask=mask)\n",
    "    \n",
    "    contours, he = cv2.findContours(mask, cv2.RETR_TREE, cv2.CHAIN_APPROX_NONE)\n",
    "    \n",
    "    res = cv2.drawContours(res, contours, -1, (0 , 255, 0), 3)\n",
    "    \n",
    "    # Display the resulting frame\n",
    "    cv2.imshow('frame',cv2.cvtColor(hsv, cv2.COLOR_HSV2BGR))\n",
    "    cv2.imshow('hsv', hsv)\n",
    "    cv2.imshow('mask', mask)\n",
    "    cv2.imshow('res', res)\n",
    "    \n",
    "    if cv2.waitKey(1) & 0xFF == ord('q'):\n",
    "        break"
   ]
  },
  {
   "cell_type": "code",
   "execution_count": 8,
   "metadata": {},
   "outputs": [],
   "source": [
    "# When everything done, release the capture\n",
    "# cap.release()\n",
    "cv2.destroyAllWindows()"
   ]
  },
  {
   "cell_type": "code",
   "execution_count": null,
   "metadata": {},
   "outputs": [],
   "source": []
  }
 ],
 "metadata": {
  "kernelspec": {
   "display_name": "Python 3",
   "language": "python",
   "name": "python3"
  },
  "language_info": {
   "codemirror_mode": {
    "name": "ipython",
    "version": 3
   },
   "file_extension": ".py",
   "mimetype": "text/x-python",
   "name": "python",
   "nbconvert_exporter": "python",
   "pygments_lexer": "ipython3",
   "version": "3.8.0"
  }
 },
 "nbformat": 4,
 "nbformat_minor": 4
}
