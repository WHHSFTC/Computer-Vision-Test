{
 "cells": [
  {
   "cell_type": "code",
   "execution_count": 101,
   "metadata": {},
   "outputs": [],
   "source": [
    "import cv2\n",
    "import numpy as np"
   ]
  },
  {
   "cell_type": "code",
   "execution_count": 102,
   "metadata": {},
   "outputs": [],
   "source": [
    "img = cv2.imread(\"capture.jpg\")"
   ]
  },
  {
   "cell_type": "code",
   "execution_count": 103,
   "metadata": {},
   "outputs": [],
   "source": [
    "lower_yellow = np.array([15, 100, 100])\n",
    "upper_yellow = np.array([30, 255, 255])"
   ]
  },
  {
   "cell_type": "code",
   "execution_count": 155,
   "metadata": {},
   "outputs": [
    {
     "name": "stdout",
     "output_type": "stream",
     "text": [
      "1-4\n"
     ]
    }
   ],
   "source": [
    "hsv = cv2.cvtColor(img, cv2.COLOR_BGR2HSV)\n",
    "\n",
    "h, s, v = cv2.split(hsv)\n",
    "cv2.equalizeHist(v, v)\n",
    "cv2.merge((h, s, v), hsv)\n",
    "\n",
    "mask = cv2.inRange(hsv, lower_yellow, upper_yellow)\n",
    "\n",
    "res = cv2.bitwise_and(img, img, mask=mask)\n",
    "\n",
    "contours, he = cv2.findContours(mask, cv2.RETR_TREE, cv2.CHAIN_APPROX_NONE)\n",
    "\n",
    "res = cv2.drawContours(res, contours, -1, (0 , 255, 0), 3)\n",
    "\n",
    "widths = []\n",
    "for c in contours:\n",
    "    rect = cv2.minAreaRect(c)\n",
    "    box = cv2.boxPoints(rect)\n",
    "    box = np.int0(box)\n",
    "    widths.append(box[box.argmax(0)[0]]-box[box.argmin(0)[0]])\n",
    "\n",
    "maxwidth = 0\n",
    "maxi = -1\n",
    "for i in range(len(widths)):\n",
    "    if widths[i][0] > maxwidth:\n",
    "        maxwidth = widths[i][0]\n",
    "        maxi = i\n",
    "\n",
    "rect = cv2.minAreaRect(contours[maxi])\n",
    "box = cv2.boxPoints(rect)\n",
    "box = np.int0(box)\n",
    "cv2.drawContours(res,[box],0,(0,0,255),2)\n",
    "\n",
    "maxX = 0\n",
    "maxY = 0\n",
    "weight = 0\n",
    "\n",
    "boxl = list(box)\n",
    "boxl.sort(key = lambda x: x.sum())\n",
    "botright = boxl[-1]\n",
    "topleft = boxl[0]\n",
    "botleft = boxl[1]\n",
    "\n",
    "m = (botleft[1] - botright[1]) / (botleft[0] - botright[0])\n",
    "\n",
    "xoff = 50\n",
    "yoff = 25\n",
    "w = 25\n",
    "h = 25\n",
    "location = -1\n",
    "for i in range(3):\n",
    "    x = botright[0] - 175 * i - xoff\n",
    "    y = int(m * (x-botright[0]) + botright[1] - yoff)\n",
    "    cv2.rectangle(res,(x - w, y - h),(x, y),(255, 0, 0), 5)\n",
    "    \n",
    "    avg = np.mean(mask[y-h:y,x-w:x])\n",
    "    location = i if not avg else location\n",
    "                        \n",
    "print(\"1-4\" if location == 2 else \"2-5\" if location == 1 else \"3-6\")\n",
    "    \n",
    "# Display the resulting frame\n",
    "cv2.imshow('mask', mask)\n",
    "cv2.imshow('res', res)\n",
    "\n",
    "while (1):\n",
    "    if cv2.waitKey(1) & 0xFF == ord('q'):\n",
    "        break\n",
    "cv2.destroyAllWindows()"
   ]
  },
  {
   "cell_type": "code",
   "execution_count": null,
   "metadata": {},
   "outputs": [],
   "source": []
  }
 ],
 "metadata": {
  "kernelspec": {
   "display_name": "Python 3",
   "language": "python",
   "name": "python3"
  },
  "language_info": {
   "codemirror_mode": {
    "name": "ipython",
    "version": 3
   },
   "file_extension": ".py",
   "mimetype": "text/x-python",
   "name": "python",
   "nbconvert_exporter": "python",
   "pygments_lexer": "ipython3",
   "version": "3.8.0"
  }
 },
 "nbformat": 4,
 "nbformat_minor": 4
}
